{
  "nbformat": 4,
  "nbformat_minor": 0,
  "metadata": {
    "colab": {
      "provenance": []
    },
    "kernelspec": {
      "name": "python3",
      "display_name": "Python 3"
    },
    "language_info": {
      "name": "python"
    }
  },
  "cells": [
    {
      "cell_type": "code",
      "execution_count": null,
      "metadata": {
        "id": "zIvkjXfVImVa"
      },
      "outputs": [],
      "source": [
        "#Soal 4.1\n",
        "\n",
        "def cek_angka(a, b, c):\n",
        "    if a != b and a != c and b != c:\n",
        "        if a + b == c or a + c == b or b + c == a:\n",
        "            return True\n",
        "        else:\n",
        "            return False\n",
        "    else:\n",
        "        return False\n",
        "\n",
        "\n",
        "print(cek_angka(1, 2, 3))\n",
        "print(cek_angka(2, 3, 5))\n",
        "print(cek_angka(1, 2, 2))\n",
        "print(cek_angka(1, 1, 2))\n"
      ]
    },
    {
      "cell_type": "code",
      "source": [
        "#Soal 4.2\n",
        "\n",
        "def cek_digit_belakang(angka_1, angka_2, angka_3):\n",
        "    # Mengambil digit terakhir dari masing-masing angka\n",
        "    digit_angka_1 = angka_1 % 10\n",
        "    digit_angka_2 = angka_2 % 10\n",
        "    digit_angka_3 = angka_3 % 10\n",
        "\n",
        "    # Mengecek apakah minimal dua dari tiga digit terakhir sama\n",
        "    if digit_angka_1 == digit_angka_2 or digit_angka_1 == digit_angka_3 or digit_angka_2 == digit_angka_3:\n",
        "        return True\n",
        "    else:\n",
        "        return False\n",
        "\n",
        "# Memakai while loop supaya pengguna dapat menginputkan angka terus menerus\n",
        "while True:\n",
        "    # Input angka dari pengguna\n",
        "    angka_1 = int(input(\"Masukkan angka 1: \"))\n",
        "    angka_2 = int(input(\"Masukkan angka 2: \"))\n",
        "    angka_3 = int(input(\"Masukkan angka 3: \"))\n",
        "\n",
        "    # Memanggil fungsi untuk mengecek digit belakang\n",
        "    hasil = cek_digit_belakang(angka_1, angka_2, angka_3)\n",
        "\n",
        "    # Outputnya\n",
        "    print(hasil)\n",
        "\n",
        "    # Menanyakan apakah anda ingin melanjutkan\n",
        "    stop = input(\"Stop? (y/t): \")\n",
        "    if stop == \"y\":\n",
        "        break\n",
        "    elif stop == \"t\":\n",
        "        continue\n",
        "    else:\n",
        "        print(\"Invalid input\")\n"
      ],
      "metadata": {
        "id": "YHuipCQnaHNz"
      },
      "execution_count": null,
      "outputs": []
    },
    {
      "cell_type": "code",
      "source": [
        "#Soal 4.3\n",
        "\n",
        "#Mendefinisikan lambda fuction\n",
        "c_to_f = lambda c: (9/5) * c + 32\n",
        "c_to_r = lambda c: 0.8 * c\n",
        "while True:\n",
        "    pilih = input(\"Pilih konversi (1 untuk C ke F, 2 untuk C ke R): \")\n",
        "    # Konversi dari C ke F\n",
        "    if pilih == \"1\":\n",
        "        c = float(input(\"Masukkan nilai Celcius: \"))\n",
        "        print(c_to_f(c), \"F\")\n",
        "    # Konversi dari C ke R\n",
        "    elif pilih == \"2\":\n",
        "        c = float(input(\"Masukkan nilai Celcius: \"))\n",
        "        print(c_to_r(c), \"R\")\n",
        "    else:\n",
        "        print(\"Pilihan tidak valid. Silakan pilih 1 atau 2.\")\n",
        "\n",
        "    # Menanyakan apakah Anda ingin melanjutkan\n",
        "    stop = input(\"Stop? (y/t): \")\n",
        "    if stop == \"y\":\n",
        "        break\n",
        "    elif stop == \"t\":\n",
        "        continue\n",
        "    else:\n",
        "        print(\"Invalid input\")\n"
      ],
      "metadata": {
        "id": "HUmYfzGTe8eU"
      },
      "execution_count": null,
      "outputs": []
    }
  ]
}